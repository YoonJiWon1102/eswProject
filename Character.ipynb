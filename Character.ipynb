{
 "cells": [
  {
   "cell_type": "code",
   "execution_count": 1,
   "metadata": {},
   "outputs": [],
   "source": [
    "from PIL import Image, ImageDraw, ImageFont"
   ]
  },
  {
   "cell_type": "code",
   "execution_count": 2,
   "metadata": {},
   "outputs": [],
   "source": [
    "class Character:\n",
    "  def __init__(self,life):\n",
    "    self.normal = Image.open('images/character/cat.png')\n",
    "    self.angry = Image.open('images/character/cat_angry.png')\n",
    "    self.x_position = 120\n",
    "    self.y_position = 210\n",
    "    self.life = life \n",
    "    self.state = None\n",
    "\n",
    "  def move(self, command = None):\n",
    "    if command['move'] == False:\n",
    "        self.state = None\n",
    "        \n",
    "    else:\n",
    "        self.state = 'move'\n",
    "        if command['left_pressed']:\n",
    "          self.position[0] -= 5\n",
    "          self.position[2] -= 5\n",
    "                \n",
    "        if command['right_pressed']:\n",
    "          self.position[0] += 5\n",
    "          self.position[2] += 5\n",
    "            \n"
   ]
  }
 ],
 "metadata": {
  "kernelspec": {
   "display_name": "Python 3",
   "language": "python",
   "name": "python3"
  },
  "language_info": {
   "codemirror_mode": {
    "name": "ipython",
    "version": 3
   },
   "file_extension": ".py",
   "mimetype": "text/x-python",
   "name": "python",
   "nbconvert_exporter": "python",
   "pygments_lexer": "ipython3",
   "version": "3.11.2"
  }
 },
 "nbformat": 4,
 "nbformat_minor": 2
}
