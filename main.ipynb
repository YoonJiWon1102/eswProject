{
 "cells": [
  {
   "cell_type": "code",
   "execution_count": 427,
   "metadata": {},
   "outputs": [],
   "source": [
    "import time\n",
    "import random\n",
    "from colorsys import hsv_to_rgb\n",
    "import board\n",
    "from digitalio import DigitalInOut, Direction\n",
    "from PIL import Image, ImageDraw, ImageFont\n",
    "from adafruit_rgb_display import st7789\n",
    "import numpy as np\n",
    "from JoyStick import Joystick\n",
    "#from Character import Character\n"
   ]
  },
  {
   "cell_type": "code",
   "execution_count": 428,
   "metadata": {},
   "outputs": [],
   "source": [
    "class Character:\n",
    "  def __init__(self):\n",
    "    # 캐릭터에 사용할 이미지\n",
    "    self.cat_front = Image.open('images/character/cat_front.png').convert('RGBA')\n",
    "    self.cat_left = Image.open('images/character/cat_left.png').convert('RGBA')\n",
    "    self.cat_right = Image.open('images/character/cat_right.png').convert('RGBA')\n",
    "    self.cat_angry = Image.open('images/character/cat_angry.png').convert('RGBA')\n",
    "    # 이미지 크기 줄이기 \n",
    "    self.cat_front_resized = self.cat_front.resize((70, 70)) \n",
    "    self.cat_left_resized = self.cat_left.resize((70, 70)) \n",
    "    self.cat_right_resized = self.cat_right.resize((70, 70)) \n",
    "    self.cat_angry_resized = self.cat_angry.resize((70, 70)) \n",
    "    # 캐릭터 위치\n",
    "    self.x_position = 120\n",
    "    self.y_position = 180\n",
    "    #self.position = np.array([width/2 - 20, height/2 - 20, width/2 + 20, height/2 +20])\n",
    "    self.speed = 5\n",
    "  # 위 아래로는 움직이지 않음\n",
    "  def move(self,up_down,left_right):\n",
    "      if up_down=='up_pressed':\n",
    "           pass\n",
    "      elif up_down == 'down_prssed':\n",
    "           pass\n",
    "      elif left_right == 'left_pressed':\n",
    "          self.x_position -= self.speed\n",
    "      elif left_right == 'right_pressed':\n",
    "          self.x_position += self.speed\n"
   ]
  },
  {
   "cell_type": "code",
   "execution_count": 429,
   "metadata": {},
   "outputs": [],
   "source": [
    "class Fish:\n",
    "  def __init__(self,x1,y1,x2,y2):\n",
    "    self.image = Image.open('images/character/fish.png').convert('RGBA')\n",
    "    self.fish_resized = self.image.resize((50, 50)) \n",
    "    self.left_top_x = x1\n",
    "    self.left_top_y = y1\n",
    "    self.right_bottom_x = x2\n",
    "    self.right_bottom_y = y2\n",
    "    self.speed = 5\n",
    "  def randomMove(self):\n",
    "        #y만 self.speed 만큼 + 하면서 내려오게 하면 됨\n",
    "        if self.left_top_y < 240 :\n",
    "            self.left_top_y = self.left_top_y + self.speed\n",
    "            self.right_bottom_y = self.right_bottom_y + self.Enemy_speed\n",
    "\n",
    "  def hit(self, cat):\n",
    "        if((cat.position[0] > self.left_top_x and cat.position[2] < self.right_bottom_x ) and \\\n",
    "            (cat.position[1] < self.right_bottom_y and cat.position[3] > self.left_top_y)) or \\\n",
    "            ((cat.position[0] + 25> self.left_top_x and cat.position[2] + 25 < self.right_bottom_x) and \\\n",
    "                (cat.position[1] < self.right_bottom_y and cat.position[3] > self.left_top_y)):\n",
    "            print(\"collision!!!\")\n",
    "            #뒤로 갈수록 점점 속도가 빨라져 앞에 부딪히는 것만 인식하기 때문에, 각 변의 길이와 좌표를 이용하여 부딪히는지 안부딪히는지 체크함 직사각형으로 따지면 밑의 부분\n",
    "            return 1\n",
    "\n",
    "        else:\n",
    "            return 0"
   ]
  },
  {
   "cell_type": "code",
   "execution_count": 430,
   "metadata": {},
   "outputs": [],
   "source": [
    "class Fishes:\n",
    "    def __init__(self):\n",
    "      self.fish_list = []\n",
    "      self.x1 = 0\n",
    "      self.x2 = 25\n",
    "      self.y1 = 0\n",
    "      self.y2 = 25\n",
    "      for i in range(0, 8):\n",
    "          self.fish_list.append(Fish(self.x1, self.y1, self.x2, self.y2))\n",
    "          self.x1 += 30\n",
    "          self.x2 += 30"
   ]
  },
  {
   "cell_type": "code",
   "execution_count": 431,
   "metadata": {},
   "outputs": [],
   "source": [
    "class Background:\n",
    "  def __init__(self):\n",
    "    self.backgroundList=[]\n",
    "    name=\"background\"\n",
    "    for i in range(10) :\n",
    "      background = Image.open('images/background/'+name+str(i+1)+'.png').convert('RGBA')\n",
    "      self.backgroundList.append(background)"
   ]
  },
  {
   "cell_type": "code",
   "execution_count": 432,
   "metadata": {},
   "outputs": [],
   "source": [
    "# joystick 객체\n",
    "joystick = Joystick()\n",
    "\n",
    "# 캐릭터 객체 생성\n",
    "cat = Character()\n",
    "# fish 객체 생성\n",
    "fishes = Fishes()\n",
    "\n",
    "\n",
    "# Get drawing object to draw on image\n",
    "image = Image.new(\"RGBA\", (joystick.width, joystick.height))\n",
    "draw =ImageDraw.Draw(image)\n",
    "# clear display\n",
    "draw.rectangle((0, 0, joystick.width, joystick.height), outline=0, fill=(255, 0, 0))\n",
    "joystick.disp.image(image)"
   ]
  },
  {
   "cell_type": "code",
   "execution_count": 433,
   "metadata": {},
   "outputs": [],
   "source": [
    "#background = Image.open('images/background/background1.png')\n",
    "#background = background.resize((240,240))\n",
    "# for i in range(10):\n",
    "#   background = Background().backgroundList[i]\n",
    "#   background = background.resize((240,240))\n",
    "background = Background()\n",
    "total_backgrounds=len(background.backgroundList)\n",
    "current_background_index = 0\n",
    "\n",
    "left_right = 'None'\n"
   ]
  },
  {
   "cell_type": "code",
   "execution_count": 434,
   "metadata": {},
   "outputs": [
    {
     "ename": "KeyboardInterrupt",
     "evalue": "",
     "output_type": "error",
     "traceback": [
      "\u001b[0;31m---------------------------------------------------------------------------\u001b[0m",
      "\u001b[0;31mKeyboardInterrupt\u001b[0m                         Traceback (most recent call last)",
      "\u001b[1;32m/home/user/eswProject/eswProject/main.ipynb 셀 9\u001b[0m line \u001b[0;36m3\n\u001b[1;32m     <a href='vscode-notebook-cell://ssh-remote%2Balias/home/user/eswProject/eswProject/main.ipynb#X15sdnNjb2RlLXJlbW90ZQ%3D%3D?line=25'>26</a>\u001b[0m \u001b[39melif\u001b[39;00m(left_right \u001b[39m==\u001b[39m \u001b[39m'\u001b[39m\u001b[39mright_pressed\u001b[39m\u001b[39m'\u001b[39m):\n\u001b[1;32m     <a href='vscode-notebook-cell://ssh-remote%2Balias/home/user/eswProject/eswProject/main.ipynb#X15sdnNjb2RlLXJlbW90ZQ%3D%3D?line=26'>27</a>\u001b[0m      image\u001b[39m.\u001b[39mpaste(cat\u001b[39m.\u001b[39mcat_right_resized, (cat\u001b[39m.\u001b[39mx_position,cat\u001b[39m.\u001b[39my_position))\n\u001b[0;32m---> <a href='vscode-notebook-cell://ssh-remote%2Balias/home/user/eswProject/eswProject/main.ipynb#X15sdnNjb2RlLXJlbW90ZQ%3D%3D?line=29'>30</a>\u001b[0m joystick\u001b[39m.\u001b[39;49mdisp\u001b[39m.\u001b[39;49mimage(image)\n",
      "File \u001b[0;32m/usr/local/lib/python3.11/dist-packages/adafruit_rgb_display/rgb.py:233\u001b[0m, in \u001b[0;36mDisplay.image\u001b[0;34m(self, img, rotation, x, y)\u001b[0m\n\u001b[1;32m    231\u001b[0m             pixels[\u001b[39m2\u001b[39m \u001b[39m*\u001b[39m (j \u001b[39m*\u001b[39m imwidth \u001b[39m+\u001b[39m i)] \u001b[39m=\u001b[39m pix \u001b[39m>>\u001b[39m \u001b[39m8\u001b[39m\n\u001b[1;32m    232\u001b[0m             pixels[\u001b[39m2\u001b[39m \u001b[39m*\u001b[39m (j \u001b[39m*\u001b[39m imwidth \u001b[39m+\u001b[39m i) \u001b[39m+\u001b[39m \u001b[39m1\u001b[39m] \u001b[39m=\u001b[39m pix \u001b[39m&\u001b[39m \u001b[39m0xFF\u001b[39m\n\u001b[0;32m--> 233\u001b[0m \u001b[39mself\u001b[39;49m\u001b[39m.\u001b[39;49m_block(x, y, x \u001b[39m+\u001b[39;49m imwidth \u001b[39m-\u001b[39;49m \u001b[39m1\u001b[39;49m, y \u001b[39m+\u001b[39;49m imheight \u001b[39m-\u001b[39;49m \u001b[39m1\u001b[39;49m, pixels)\n",
      "File \u001b[0;32m/usr/local/lib/python3.11/dist-packages/adafruit_rgb_display/rgb.py:170\u001b[0m, in \u001b[0;36mDisplay._block\u001b[0;34m(self, x0, y0, x1, y1, data)\u001b[0m\n\u001b[1;32m    168\u001b[0m     size \u001b[39m=\u001b[39m struct\u001b[39m.\u001b[39mcalcsize(\u001b[39mself\u001b[39m\u001b[39m.\u001b[39m_DECODE_PIXEL)\n\u001b[1;32m    169\u001b[0m     \u001b[39mreturn\u001b[39;00m \u001b[39mself\u001b[39m\u001b[39m.\u001b[39mread(\u001b[39mself\u001b[39m\u001b[39m.\u001b[39m_RAM_READ, (x1 \u001b[39m-\u001b[39m x0 \u001b[39m+\u001b[39m \u001b[39m1\u001b[39m) \u001b[39m*\u001b[39m (y1 \u001b[39m-\u001b[39m y0 \u001b[39m+\u001b[39m \u001b[39m1\u001b[39m) \u001b[39m*\u001b[39m size)\n\u001b[0;32m--> 170\u001b[0m \u001b[39mself\u001b[39;49m\u001b[39m.\u001b[39;49mwrite(\u001b[39mself\u001b[39;49m\u001b[39m.\u001b[39;49m_RAM_WRITE, data)\n\u001b[1;32m    171\u001b[0m \u001b[39mreturn\u001b[39;00m \u001b[39mNone\u001b[39;00m\n",
      "File \u001b[0;32m/usr/local/lib/python3.11/dist-packages/adafruit_rgb_display/rgb.py:336\u001b[0m, in \u001b[0;36mDisplaySPI.write\u001b[0;34m(self, command, data)\u001b[0m\n\u001b[1;32m    334\u001b[0m \u001b[39mself\u001b[39m\u001b[39m.\u001b[39mdc_pin\u001b[39m.\u001b[39mvalue \u001b[39m=\u001b[39m \u001b[39m1\u001b[39m\n\u001b[1;32m    335\u001b[0m \u001b[39mwith\u001b[39;00m \u001b[39mself\u001b[39m\u001b[39m.\u001b[39mspi_device \u001b[39mas\u001b[39;00m spi:\n\u001b[0;32m--> 336\u001b[0m     spi\u001b[39m.\u001b[39;49mwrite(data)\n",
      "File \u001b[0;32m/usr/local/lib/python3.11/dist-packages/busio.py:466\u001b[0m, in \u001b[0;36mSPI.write\u001b[0;34m(self, buf, start, end)\u001b[0m\n\u001b[1;32m    464\u001b[0m \u001b[39mdef\u001b[39;00m \u001b[39mwrite\u001b[39m(\u001b[39mself\u001b[39m, buf, start\u001b[39m=\u001b[39m\u001b[39m0\u001b[39m, end\u001b[39m=\u001b[39m\u001b[39mNone\u001b[39;00m):\n\u001b[1;32m    465\u001b[0m \u001b[39m    \u001b[39m\u001b[39m\"\"\"Write to the SPI device\"\"\"\u001b[39;00m\n\u001b[0;32m--> 466\u001b[0m     \u001b[39mreturn\u001b[39;00m \u001b[39mself\u001b[39;49m\u001b[39m.\u001b[39;49m_spi\u001b[39m.\u001b[39;49mwrite(buf, start, end)\n",
      "File \u001b[0;32m/usr/local/lib/python3.11/dist-packages/adafruit_blinka/microcontroller/generic_linux/spi.py:86\u001b[0m, in \u001b[0;36mSPI.write\u001b[0;34m(self, buf, start, end)\u001b[0m\n\u001b[1;32m     84\u001b[0m     \u001b[39mself\u001b[39m\u001b[39m.\u001b[39m_spi\u001b[39m.\u001b[39mmode \u001b[39m=\u001b[39m \u001b[39mself\u001b[39m\u001b[39m.\u001b[39mmode\n\u001b[1;32m     85\u001b[0m     \u001b[39mself\u001b[39m\u001b[39m.\u001b[39m_spi\u001b[39m.\u001b[39mbits_per_word \u001b[39m=\u001b[39m \u001b[39mself\u001b[39m\u001b[39m.\u001b[39mbits\n\u001b[0;32m---> 86\u001b[0m     \u001b[39mself\u001b[39;49m\u001b[39m.\u001b[39;49m_spi\u001b[39m.\u001b[39;49mwritebytes(buf[start:end])\n\u001b[1;32m     87\u001b[0m     \u001b[39m# self._spi.close()\u001b[39;00m\n\u001b[1;32m     88\u001b[0m \u001b[39mexcept\u001b[39;00m \u001b[39mFileNotFoundError\u001b[39;00m:\n",
      "File \u001b[0;32m/usr/local/lib/python3.11/dist-packages/Adafruit_PureIO/spi.py:352\u001b[0m, in \u001b[0;36mSPI.writebytes\u001b[0;34m(self, data, max_speed_hz, bits_per_word, delay)\u001b[0m\n\u001b[1;32m    338\u001b[0m spi_ioc_transfer \u001b[39m=\u001b[39m struct\u001b[39m.\u001b[39mpack(\n\u001b[1;32m    339\u001b[0m     SPI\u001b[39m.\u001b[39m_IOC_TRANSFER_FORMAT,\n\u001b[1;32m    340\u001b[0m     addressof(transmit_buffer),\n\u001b[0;32m   (...)\u001b[0m\n\u001b[1;32m    349\u001b[0m     \u001b[39m0\u001b[39m,\n\u001b[1;32m    350\u001b[0m )\n\u001b[1;32m    351\u001b[0m \u001b[39mtry\u001b[39;00m:\n\u001b[0;32m--> 352\u001b[0m     ioctl(\u001b[39mself\u001b[39m\u001b[39m.\u001b[39mhandle, SPI\u001b[39m.\u001b[39m_IOC_MESSAGE, spi_ioc_transfer)\n\u001b[1;32m    353\u001b[0m \u001b[39mexcept\u001b[39;00m \u001b[39mTimeoutError\u001b[39;00m \u001b[39mas\u001b[39;00m err:\n\u001b[1;32m    354\u001b[0m     \u001b[39mraise\u001b[39;00m \u001b[39mException\u001b[39;00m(  \u001b[39m# pylint: disable=broad-exception-raised\u001b[39;00m\n\u001b[1;32m    355\u001b[0m         \u001b[39m\"\u001b[39m\u001b[39mioctl timeout. Please try a different SPI frequency or less data.\u001b[39m\u001b[39m\"\u001b[39m\n\u001b[1;32m    356\u001b[0m     ) \u001b[39mfrom\u001b[39;00m \u001b[39merr\u001b[39;00m\n",
      "\u001b[0;31mKeyboardInterrupt\u001b[0m: "
     ]
    }
   ],
   "source": [
    "\n",
    "\n",
    "while True:\n",
    "    time.sleep(0.01)\n",
    "    current_background_index = (current_background_index + 1) % total_backgrounds\n",
    "    current_background = background.backgroundList[current_background_index]\n",
    "    current_background = current_background.resize((240, 240))\n",
    "    image.paste(current_background, (0, 0))\n",
    "\n",
    "    up_down = 'None'\n",
    "    left_right = 'None'\n",
    "    if not joystick.button_U.value:\n",
    "         up_down = 'up_pressed'\n",
    "    if not joystick.button_D.value:\n",
    "         up_down = 'down_pressed'\n",
    "    if not joystick.button_L.value:\n",
    "        left_right = 'left_pressed'\n",
    "    if not joystick.button_R.value:\n",
    "        left_right = 'right_pressed'\n",
    "\n",
    "    # 움직이게 만들기 \n",
    "    cat.move(up_down, left_right)\n",
    "    # 가만히 있을 때 이미지표시\n",
    "    image.paste(cat.cat_front_resized, (cat.x_position,cat.y_position))\n",
    "    # 왼쪽 오른쪽으로 움직일 때 다른 이미지로 보이도록 함.\n",
    "    if(left_right =='left_pressed') :\n",
    "        image.paste(cat.cat_left_resized, (cat.x_position,cat.y_position))\n",
    "    elif(left_right == 'right_pressed'):\n",
    "         image.paste(cat.cat_right_resized, (cat.x_position,cat.y_position))\n",
    "    \n",
    "    \n",
    "    joystick.disp.image(image)\n"
   ]
  }
 ],
 "metadata": {
  "kernelspec": {
   "display_name": "Python 3",
   "language": "python",
   "name": "python3"
  },
  "language_info": {
   "codemirror_mode": {
    "name": "ipython",
    "version": 3
   },
   "file_extension": ".py",
   "mimetype": "text/x-python",
   "name": "python",
   "nbconvert_exporter": "python",
   "pygments_lexer": "ipython3",
   "version": "3.11.2"
  }
 },
 "nbformat": 4,
 "nbformat_minor": 2
}
