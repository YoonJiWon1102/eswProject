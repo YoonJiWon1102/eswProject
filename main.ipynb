{
 "cells": [
  {
   "cell_type": "code",
   "execution_count": 48,
   "metadata": {},
   "outputs": [],
   "source": [
    "import time\n",
    "import random\n",
    "from colorsys import hsv_to_rgb\n",
    "import board\n",
    "from digitalio import DigitalInOut, Direction\n",
    "from PIL import Image, ImageDraw, ImageFont\n",
    "from adafruit_rgb_display import st7789\n",
    "import numpy as np\n",
    "from JoyStick import Joystick\n"
   ]
  },
  {
   "cell_type": "code",
   "execution_count": 49,
   "metadata": {},
   "outputs": [],
   "source": [
    "# joystick 객체\n",
    "joystick =Joystick()\n",
    " # Get drawing object to draw on image\n",
    "image = Image.new(\"RGBA\", (joystick.width, joystick.height))\n",
    "draw =ImageDraw.Draw(image)\n",
    "# clear display\n",
    "draw.rectangle((0, 0, joystick.width, joystick.height), outline=0, fill=(255, 0, 0))\n",
    "joystick.disp.image(image)"
   ]
  },
  {
   "cell_type": "code",
   "execution_count": 50,
   "metadata": {},
   "outputs": [],
   "source": [
    "class Background:\n",
    "  def __init__(self):\n",
    "    self.backgroundList=[]\n",
    "    name=\"background\"\n",
    "    for i in range(10) :\n",
    "      background = Image.open('images/background/'+name+str(i+1)+'.png').convert('RGBA')\n",
    "      self.backgroundList.append(background)"
   ]
  },
  {
   "cell_type": "code",
   "execution_count": 51,
   "metadata": {},
   "outputs": [],
   "source": [
    "class Character:\n",
    "  def __init__(self,life):\n",
    "    self.normal = Image.open('images/character/cat.png')\n",
    "    self.angry = Image.open('images/character/cat_angry.png')\n",
    "    self.x_position = 120\n",
    "    self.y_position = 210\n",
    "    self.life = life \n",
    "    self.state = None\n",
    "\n",
    "  def move(self, L_R):\n",
    "    if L_R == 'left':\n",
    "      self.x_position -=5\n",
    "    elif L_R == 'right':\n",
    "      self.x_position -=5\n",
    "            "
   ]
  },
  {
   "cell_type": "code",
   "execution_count": 72,
   "metadata": {},
   "outputs": [],
   "source": []
  },
  {
   "cell_type": "code",
   "execution_count": 63,
   "metadata": {},
   "outputs": [],
   "source": [
    "#background = Image.open('images/background/background1.png')\n",
    "#background = background.resize((240,240))\n",
    "for i in range(10):\n",
    "  background = Background().backgroundList[i]\n",
    "  background = background.resize((240,240))\n"
   ]
  },
  {
   "cell_type": "code",
   "execution_count": 64,
   "metadata": {},
   "outputs": [],
   "source": [
    "life=3\n",
    "# 캐릭터 객체 생성\n",
    "cat = Character(life)"
   ]
  },
  {
   "cell_type": "code",
   "execution_count": 65,
   "metadata": {},
   "outputs": [],
   "source": [
    "L_R='None'"
   ]
  },
  {
   "cell_type": "code",
   "execution_count": 67,
   "metadata": {},
   "outputs": [
    {
     "ename": "KeyboardInterrupt",
     "evalue": "",
     "output_type": "error",
     "traceback": [
      "\u001b[0;31m---------------------------------------------------------------------------\u001b[0m",
      "\u001b[0;31mKeyboardInterrupt\u001b[0m                         Traceback (most recent call last)",
      "\u001b[1;32m/home/user/eswProject/eswProject/main.ipynb 셀 9\u001b[0m line \u001b[0;36m1\n\u001b[1;32m     <a href='vscode-notebook-cell://ssh-remote%2Balias/home/user/eswProject/eswProject/main.ipynb#X20sdnNjb2RlLXJlbW90ZQ%3D%3D?line=13'>14</a>\u001b[0m     command \u001b[39m=\u001b[39m \u001b[39mNone\u001b[39;00m\n\u001b[1;32m     <a href='vscode-notebook-cell://ssh-remote%2Balias/home/user/eswProject/eswProject/main.ipynb#X20sdnNjb2RlLXJlbW90ZQ%3D%3D?line=15'>16</a>\u001b[0m cat\u001b[39m.\u001b[39mmove(L_R)\n\u001b[0;32m---> <a href='vscode-notebook-cell://ssh-remote%2Balias/home/user/eswProject/eswProject/main.ipynb#X20sdnNjb2RlLXJlbW90ZQ%3D%3D?line=17'>18</a>\u001b[0m joystick\u001b[39m.\u001b[39;49mdisp\u001b[39m.\u001b[39;49mimage(image)\n",
      "File \u001b[0;32m/usr/local/lib/python3.11/dist-packages/adafruit_rgb_display/rgb.py:233\u001b[0m, in \u001b[0;36mDisplay.image\u001b[0;34m(self, img, rotation, x, y)\u001b[0m\n\u001b[1;32m    231\u001b[0m             pixels[\u001b[39m2\u001b[39m \u001b[39m*\u001b[39m (j \u001b[39m*\u001b[39m imwidth \u001b[39m+\u001b[39m i)] \u001b[39m=\u001b[39m pix \u001b[39m>>\u001b[39m \u001b[39m8\u001b[39m\n\u001b[1;32m    232\u001b[0m             pixels[\u001b[39m2\u001b[39m \u001b[39m*\u001b[39m (j \u001b[39m*\u001b[39m imwidth \u001b[39m+\u001b[39m i) \u001b[39m+\u001b[39m \u001b[39m1\u001b[39m] \u001b[39m=\u001b[39m pix \u001b[39m&\u001b[39m \u001b[39m0xFF\u001b[39m\n\u001b[0;32m--> 233\u001b[0m \u001b[39mself\u001b[39;49m\u001b[39m.\u001b[39;49m_block(x, y, x \u001b[39m+\u001b[39;49m imwidth \u001b[39m-\u001b[39;49m \u001b[39m1\u001b[39;49m, y \u001b[39m+\u001b[39;49m imheight \u001b[39m-\u001b[39;49m \u001b[39m1\u001b[39;49m, pixels)\n",
      "File \u001b[0;32m/usr/local/lib/python3.11/dist-packages/adafruit_rgb_display/rgb.py:170\u001b[0m, in \u001b[0;36mDisplay._block\u001b[0;34m(self, x0, y0, x1, y1, data)\u001b[0m\n\u001b[1;32m    168\u001b[0m     size \u001b[39m=\u001b[39m struct\u001b[39m.\u001b[39mcalcsize(\u001b[39mself\u001b[39m\u001b[39m.\u001b[39m_DECODE_PIXEL)\n\u001b[1;32m    169\u001b[0m     \u001b[39mreturn\u001b[39;00m \u001b[39mself\u001b[39m\u001b[39m.\u001b[39mread(\u001b[39mself\u001b[39m\u001b[39m.\u001b[39m_RAM_READ, (x1 \u001b[39m-\u001b[39m x0 \u001b[39m+\u001b[39m \u001b[39m1\u001b[39m) \u001b[39m*\u001b[39m (y1 \u001b[39m-\u001b[39m y0 \u001b[39m+\u001b[39m \u001b[39m1\u001b[39m) \u001b[39m*\u001b[39m size)\n\u001b[0;32m--> 170\u001b[0m \u001b[39mself\u001b[39;49m\u001b[39m.\u001b[39;49mwrite(\u001b[39mself\u001b[39;49m\u001b[39m.\u001b[39;49m_RAM_WRITE, data)\n\u001b[1;32m    171\u001b[0m \u001b[39mreturn\u001b[39;00m \u001b[39mNone\u001b[39;00m\n",
      "File \u001b[0;32m/usr/local/lib/python3.11/dist-packages/adafruit_rgb_display/rgb.py:336\u001b[0m, in \u001b[0;36mDisplaySPI.write\u001b[0;34m(self, command, data)\u001b[0m\n\u001b[1;32m    334\u001b[0m \u001b[39mself\u001b[39m\u001b[39m.\u001b[39mdc_pin\u001b[39m.\u001b[39mvalue \u001b[39m=\u001b[39m \u001b[39m1\u001b[39m\n\u001b[1;32m    335\u001b[0m \u001b[39mwith\u001b[39;00m \u001b[39mself\u001b[39m\u001b[39m.\u001b[39mspi_device \u001b[39mas\u001b[39;00m spi:\n\u001b[0;32m--> 336\u001b[0m     spi\u001b[39m.\u001b[39;49mwrite(data)\n",
      "File \u001b[0;32m/usr/local/lib/python3.11/dist-packages/busio.py:466\u001b[0m, in \u001b[0;36mSPI.write\u001b[0;34m(self, buf, start, end)\u001b[0m\n\u001b[1;32m    464\u001b[0m \u001b[39mdef\u001b[39;00m \u001b[39mwrite\u001b[39m(\u001b[39mself\u001b[39m, buf, start\u001b[39m=\u001b[39m\u001b[39m0\u001b[39m, end\u001b[39m=\u001b[39m\u001b[39mNone\u001b[39;00m):\n\u001b[1;32m    465\u001b[0m \u001b[39m    \u001b[39m\u001b[39m\"\"\"Write to the SPI device\"\"\"\u001b[39;00m\n\u001b[0;32m--> 466\u001b[0m     \u001b[39mreturn\u001b[39;00m \u001b[39mself\u001b[39;49m\u001b[39m.\u001b[39;49m_spi\u001b[39m.\u001b[39;49mwrite(buf, start, end)\n",
      "File \u001b[0;32m/usr/local/lib/python3.11/dist-packages/adafruit_blinka/microcontroller/generic_linux/spi.py:86\u001b[0m, in \u001b[0;36mSPI.write\u001b[0;34m(self, buf, start, end)\u001b[0m\n\u001b[1;32m     84\u001b[0m     \u001b[39mself\u001b[39m\u001b[39m.\u001b[39m_spi\u001b[39m.\u001b[39mmode \u001b[39m=\u001b[39m \u001b[39mself\u001b[39m\u001b[39m.\u001b[39mmode\n\u001b[1;32m     85\u001b[0m     \u001b[39mself\u001b[39m\u001b[39m.\u001b[39m_spi\u001b[39m.\u001b[39mbits_per_word \u001b[39m=\u001b[39m \u001b[39mself\u001b[39m\u001b[39m.\u001b[39mbits\n\u001b[0;32m---> 86\u001b[0m     \u001b[39mself\u001b[39;49m\u001b[39m.\u001b[39;49m_spi\u001b[39m.\u001b[39;49mwritebytes(buf[start:end])\n\u001b[1;32m     87\u001b[0m     \u001b[39m# self._spi.close()\u001b[39;00m\n\u001b[1;32m     88\u001b[0m \u001b[39mexcept\u001b[39;00m \u001b[39mFileNotFoundError\u001b[39;00m:\n",
      "File \u001b[0;32m/usr/local/lib/python3.11/dist-packages/Adafruit_PureIO/spi.py:352\u001b[0m, in \u001b[0;36mSPI.writebytes\u001b[0;34m(self, data, max_speed_hz, bits_per_word, delay)\u001b[0m\n\u001b[1;32m    338\u001b[0m spi_ioc_transfer \u001b[39m=\u001b[39m struct\u001b[39m.\u001b[39mpack(\n\u001b[1;32m    339\u001b[0m     SPI\u001b[39m.\u001b[39m_IOC_TRANSFER_FORMAT,\n\u001b[1;32m    340\u001b[0m     addressof(transmit_buffer),\n\u001b[0;32m   (...)\u001b[0m\n\u001b[1;32m    349\u001b[0m     \u001b[39m0\u001b[39m,\n\u001b[1;32m    350\u001b[0m )\n\u001b[1;32m    351\u001b[0m \u001b[39mtry\u001b[39;00m:\n\u001b[0;32m--> 352\u001b[0m     ioctl(\u001b[39mself\u001b[39m\u001b[39m.\u001b[39mhandle, SPI\u001b[39m.\u001b[39m_IOC_MESSAGE, spi_ioc_transfer)\n\u001b[1;32m    353\u001b[0m \u001b[39mexcept\u001b[39;00m \u001b[39mTimeoutError\u001b[39;00m \u001b[39mas\u001b[39;00m err:\n\u001b[1;32m    354\u001b[0m     \u001b[39mraise\u001b[39;00m \u001b[39mException\u001b[39;00m(  \u001b[39m# pylint: disable=broad-exception-raised\u001b[39;00m\n\u001b[1;32m    355\u001b[0m         \u001b[39m\"\u001b[39m\u001b[39mioctl timeout. Please try a different SPI frequency or less data.\u001b[39m\u001b[39m\"\u001b[39m\n\u001b[1;32m    356\u001b[0m     ) \u001b[39mfrom\u001b[39;00m \u001b[39merr\u001b[39;00m\n",
      "\u001b[0;31mKeyboardInterrupt\u001b[0m: "
     ]
    }
   ],
   "source": [
    "while True:\n",
    "        image.paste(background,(0,0))\n",
    "        image.paste(cat.normal, (cat.x_position, cat.x_position)) #백그라운드 이미지 붙이기\n",
    "        L_R='None'\n",
    "        if not joystick.button_L.value:  # left pressed\n",
    "            L_R = 'left'\n",
    "        elif not joystick.button_R.value:  # right pressed\n",
    "            L_R = 'right'\n",
    "            \n",
    "        else:\n",
    "            command = None\n",
    "\n",
    "        cat.move(L_R)\n",
    "        \n",
    "        joystick.disp.image(image)"
   ]
  }
 ],
 "metadata": {
  "kernelspec": {
   "display_name": "Python 3",
   "language": "python",
   "name": "python3"
  },
  "language_info": {
   "codemirror_mode": {
    "name": "ipython",
    "version": 3
   },
   "file_extension": ".py",
   "mimetype": "text/x-python",
   "name": "python",
   "nbconvert_exporter": "python",
   "pygments_lexer": "ipython3",
   "version": "3.11.2"
  }
 },
 "nbformat": 4,
 "nbformat_minor": 2
}
