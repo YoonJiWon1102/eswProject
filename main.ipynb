{
 "cells": [
  {
   "cell_type": "code",
   "execution_count": 37,
   "metadata": {},
   "outputs": [],
   "source": [
    "import time\n",
    "import random\n",
    "from colorsys import hsv_to_rgb\n",
    "import board\n",
    "from digitalio import DigitalInOut, Direction\n",
    "from PIL import Image, ImageDraw, ImageFont\n",
    "from adafruit_rgb_display import st7789\n",
    "import numpy as np"
   ]
  },
  {
   "cell_type": "code",
   "execution_count": 6,
   "metadata": {},
   "outputs": [],
   "source": [
    "class Joystick:\n",
    "    def __init__(self):\n",
    "        self.cs_pin = DigitalInOut(board.CE0)\n",
    "        self.dc_pin = DigitalInOut(board.D25)\n",
    "        self.reset_pin = DigitalInOut(board.D24)\n",
    "        self.BAUDRATE = 24000000\n",
    "\n",
    "        self.spi = board.SPI()\n",
    "        self.disp = st7789.ST7789(\n",
    "                    self.spi,\n",
    "                    height=240,\n",
    "                    y_offset=80,\n",
    "                    rotation=180,\n",
    "                    cs=self.cs_pin,\n",
    "                    dc=self.dc_pin,\n",
    "                    rst=self.reset_pin,\n",
    "                    baudrate=self.BAUDRATE,\n",
    "                    )\n",
    "\n",
    "        # Input pins:\n",
    "        self.button_A = DigitalInOut(board.D5)\n",
    "        self.button_A.direction = Direction.INPUT\n",
    "\n",
    "        self.button_B = DigitalInOut(board.D6)\n",
    "        self.button_B.direction = Direction.INPUT\n",
    "\n",
    "        self.button_L = DigitalInOut(board.D27)\n",
    "        self.button_L.direction = Direction.INPUT\n",
    "\n",
    "        self.button_R = DigitalInOut(board.D23)\n",
    "        self.button_R.direction = Direction.INPUT\n",
    "\n",
    "        self.button_U = DigitalInOut(board.D17)\n",
    "        self.button_U.direction = Direction.INPUT\n",
    "\n",
    "        self.button_D = DigitalInOut(board.D22)\n",
    "        self.button_D.direction = Direction.INPUT\n",
    "\n",
    "        self.button_C = DigitalInOut(board.D4)\n",
    "        self.button_C.direction = Direction.INPUT\n",
    "\n",
    "        # Turn on the Backlight\n",
    "        self.backlight = DigitalInOut(board.D26)\n",
    "        self.backlight.switch_to_output()\n",
    "        self.backlight.value = True\n",
    "\n",
    "        # Create blank image for drawing.\n",
    "        # Make sure to create image with mode 'RGB' for color.\n",
    "        self.width = self.disp.width\n",
    "        self.height = self.disp.height"
   ]
  },
  {
   "cell_type": "code",
   "execution_count": 28,
   "metadata": {},
   "outputs": [],
   "source": [
    "class Character:\n",
    "    def __init__(self, width, height):\n",
    "        self.appearance = 'circle'\n",
    "        self.state = None\n",
    "        self.position = np.array([width/2 - 20, height/2 - 20, width/2 + 20, height/2 + 20])\n",
    "        self.outline = \"#FFFFFF\"\n",
    "\n",
    "    def move(self, command = None):\n",
    "        if command['move'] == False:\n",
    "            self.state = None\n",
    "            self.outline = \"#FFFFFF\" #검정색상 코드!\n",
    "        \n",
    "        else:\n",
    "            self.state = 'move'\n",
    "            self.outline = \"#FF0000\" #빨강색상 코드!\n",
    "\n",
    "            if command['up_pressed']:\n",
    "                self.position[1] -= 5\n",
    "                self.position[3] -= 5\n",
    "\n",
    "            if command['down_pressed']:\n",
    "                self.position[1] += 5\n",
    "                self.position[3] += 5\n",
    "\n",
    "            if command['left_pressed']:\n",
    "                self.position[0] -= 5\n",
    "                self.position[2] -= 5\n",
    "                \n",
    "            if command['right_pressed']:\n",
    "                self.position[0] += 5\n",
    "                self.position[2] += 5"
   ]
  },
  {
   "cell_type": "code",
   "execution_count": 29,
   "metadata": {},
   "outputs": [],
   "source": [
    "joystick = Joystick()"
   ]
  },
  {
   "cell_type": "code",
   "execution_count": 30,
   "metadata": {},
   "outputs": [],
   "source": [
    "image = Image.new(\"RGBA\",(joystick.width , joystick.height))\n",
    "draw = ImageDraw.Draw(image)"
   ]
  },
  {
   "cell_type": "code",
   "execution_count": 31,
   "metadata": {},
   "outputs": [],
   "source": [
    "draw.rectangle((0, 0, joystick.width, joystick.height), outline=0, fill=(100, 0, 0))"
   ]
  },
  {
   "cell_type": "code",
   "execution_count": 32,
   "metadata": {},
   "outputs": [],
   "source": [
    "draw = ImageDraw.Draw(image)"
   ]
  },
  {
   "cell_type": "code",
   "execution_count": 33,
   "metadata": {},
   "outputs": [],
   "source": [
    "draw.rectangle((0, 0, joystick.width, joystick.height), outline=0, fill=0)"
   ]
  },
  {
   "cell_type": "code",
   "execution_count": 34,
   "metadata": {},
   "outputs": [],
   "source": [
    "black_fill = \"#000000\"\n",
    "udlr_fill = \"#00FF00\"\n",
    "udlr_outline = \"#00FFFF\"\n",
    "button_fill = \"#FF00FF\"\n",
    "button_outline = \"#FFFFFF\"\n",
    "black_outline = \"#000000\"\n",
    "text_fill = \"#1FDA11\""
   ]
  },
  {
   "cell_type": "code",
   "execution_count": 35,
   "metadata": {},
   "outputs": [],
   "source": [
    "background = Image.open('images/background(1).png')\n",
    "background = background.resize((240,240))"
   ]
  },
  {
   "cell_type": "code",
   "execution_count": 39,
   "metadata": {},
   "outputs": [
    {
     "ename": "KeyboardInterrupt",
     "evalue": "",
     "output_type": "error",
     "traceback": [
      "\u001b[0;31m---------------------------------------------------------------------------\u001b[0m",
      "\u001b[0;31mKeyboardInterrupt\u001b[0m                         Traceback (most recent call last)",
      "\u001b[1;32m/home/user/eswProject/eswProject/main.ipynb 셀 11\u001b[0m line \u001b[0;36m2\n\u001b[1;32m     <a href='vscode-notebook-cell://ssh-remote%2Balias/home/user/eswProject/eswProject/main.ipynb#X10sdnNjb2RlLXJlbW90ZQ%3D%3D?line=25'>26</a>\u001b[0m draw\u001b[39m.\u001b[39mellipse(\u001b[39mtuple\u001b[39m(my_circle\u001b[39m.\u001b[39mposition), outline \u001b[39m=\u001b[39m my_circle\u001b[39m.\u001b[39moutline, fill \u001b[39m=\u001b[39m (\u001b[39m0\u001b[39m, \u001b[39m0\u001b[39m, \u001b[39m0\u001b[39m))\n\u001b[1;32m     <a href='vscode-notebook-cell://ssh-remote%2Balias/home/user/eswProject/eswProject/main.ipynb#X10sdnNjb2RlLXJlbW90ZQ%3D%3D?line=26'>27</a>\u001b[0m \u001b[39m#좌표는 동그라미의 왼쪽 위, 오른쪽 아래 점 (x1, y1, x2, y2)\u001b[39;00m\n\u001b[0;32m---> <a href='vscode-notebook-cell://ssh-remote%2Balias/home/user/eswProject/eswProject/main.ipynb#X10sdnNjb2RlLXJlbW90ZQ%3D%3D?line=27'>28</a>\u001b[0m joystick\u001b[39m.\u001b[39;49mdisp\u001b[39m.\u001b[39;49mimage(image)\n",
      "File \u001b[0;32m/usr/local/lib/python3.11/dist-packages/adafruit_rgb_display/rgb.py:233\u001b[0m, in \u001b[0;36mDisplay.image\u001b[0;34m(self, img, rotation, x, y)\u001b[0m\n\u001b[1;32m    231\u001b[0m             pixels[\u001b[39m2\u001b[39m \u001b[39m*\u001b[39m (j \u001b[39m*\u001b[39m imwidth \u001b[39m+\u001b[39m i)] \u001b[39m=\u001b[39m pix \u001b[39m>>\u001b[39m \u001b[39m8\u001b[39m\n\u001b[1;32m    232\u001b[0m             pixels[\u001b[39m2\u001b[39m \u001b[39m*\u001b[39m (j \u001b[39m*\u001b[39m imwidth \u001b[39m+\u001b[39m i) \u001b[39m+\u001b[39m \u001b[39m1\u001b[39m] \u001b[39m=\u001b[39m pix \u001b[39m&\u001b[39m \u001b[39m0xFF\u001b[39m\n\u001b[0;32m--> 233\u001b[0m \u001b[39mself\u001b[39;49m\u001b[39m.\u001b[39;49m_block(x, y, x \u001b[39m+\u001b[39;49m imwidth \u001b[39m-\u001b[39;49m \u001b[39m1\u001b[39;49m, y \u001b[39m+\u001b[39;49m imheight \u001b[39m-\u001b[39;49m \u001b[39m1\u001b[39;49m, pixels)\n",
      "File \u001b[0;32m/usr/local/lib/python3.11/dist-packages/adafruit_rgb_display/rgb.py:170\u001b[0m, in \u001b[0;36mDisplay._block\u001b[0;34m(self, x0, y0, x1, y1, data)\u001b[0m\n\u001b[1;32m    168\u001b[0m     size \u001b[39m=\u001b[39m struct\u001b[39m.\u001b[39mcalcsize(\u001b[39mself\u001b[39m\u001b[39m.\u001b[39m_DECODE_PIXEL)\n\u001b[1;32m    169\u001b[0m     \u001b[39mreturn\u001b[39;00m \u001b[39mself\u001b[39m\u001b[39m.\u001b[39mread(\u001b[39mself\u001b[39m\u001b[39m.\u001b[39m_RAM_READ, (x1 \u001b[39m-\u001b[39m x0 \u001b[39m+\u001b[39m \u001b[39m1\u001b[39m) \u001b[39m*\u001b[39m (y1 \u001b[39m-\u001b[39m y0 \u001b[39m+\u001b[39m \u001b[39m1\u001b[39m) \u001b[39m*\u001b[39m size)\n\u001b[0;32m--> 170\u001b[0m \u001b[39mself\u001b[39;49m\u001b[39m.\u001b[39;49mwrite(\u001b[39mself\u001b[39;49m\u001b[39m.\u001b[39;49m_RAM_WRITE, data)\n\u001b[1;32m    171\u001b[0m \u001b[39mreturn\u001b[39;00m \u001b[39mNone\u001b[39;00m\n",
      "File \u001b[0;32m/usr/local/lib/python3.11/dist-packages/adafruit_rgb_display/rgb.py:336\u001b[0m, in \u001b[0;36mDisplaySPI.write\u001b[0;34m(self, command, data)\u001b[0m\n\u001b[1;32m    334\u001b[0m \u001b[39mself\u001b[39m\u001b[39m.\u001b[39mdc_pin\u001b[39m.\u001b[39mvalue \u001b[39m=\u001b[39m \u001b[39m1\u001b[39m\n\u001b[1;32m    335\u001b[0m \u001b[39mwith\u001b[39;00m \u001b[39mself\u001b[39m\u001b[39m.\u001b[39mspi_device \u001b[39mas\u001b[39;00m spi:\n\u001b[0;32m--> 336\u001b[0m     spi\u001b[39m.\u001b[39;49mwrite(data)\n",
      "File \u001b[0;32m/usr/local/lib/python3.11/dist-packages/busio.py:466\u001b[0m, in \u001b[0;36mSPI.write\u001b[0;34m(self, buf, start, end)\u001b[0m\n\u001b[1;32m    464\u001b[0m \u001b[39mdef\u001b[39;00m \u001b[39mwrite\u001b[39m(\u001b[39mself\u001b[39m, buf, start\u001b[39m=\u001b[39m\u001b[39m0\u001b[39m, end\u001b[39m=\u001b[39m\u001b[39mNone\u001b[39;00m):\n\u001b[1;32m    465\u001b[0m \u001b[39m    \u001b[39m\u001b[39m\"\"\"Write to the SPI device\"\"\"\u001b[39;00m\n\u001b[0;32m--> 466\u001b[0m     \u001b[39mreturn\u001b[39;00m \u001b[39mself\u001b[39;49m\u001b[39m.\u001b[39;49m_spi\u001b[39m.\u001b[39;49mwrite(buf, start, end)\n",
      "File \u001b[0;32m/usr/local/lib/python3.11/dist-packages/adafruit_blinka/microcontroller/generic_linux/spi.py:86\u001b[0m, in \u001b[0;36mSPI.write\u001b[0;34m(self, buf, start, end)\u001b[0m\n\u001b[1;32m     84\u001b[0m     \u001b[39mself\u001b[39m\u001b[39m.\u001b[39m_spi\u001b[39m.\u001b[39mmode \u001b[39m=\u001b[39m \u001b[39mself\u001b[39m\u001b[39m.\u001b[39mmode\n\u001b[1;32m     85\u001b[0m     \u001b[39mself\u001b[39m\u001b[39m.\u001b[39m_spi\u001b[39m.\u001b[39mbits_per_word \u001b[39m=\u001b[39m \u001b[39mself\u001b[39m\u001b[39m.\u001b[39mbits\n\u001b[0;32m---> 86\u001b[0m     \u001b[39mself\u001b[39;49m\u001b[39m.\u001b[39;49m_spi\u001b[39m.\u001b[39;49mwritebytes(buf[start:end])\n\u001b[1;32m     87\u001b[0m     \u001b[39m# self._spi.close()\u001b[39;00m\n\u001b[1;32m     88\u001b[0m \u001b[39mexcept\u001b[39;00m \u001b[39mFileNotFoundError\u001b[39;00m:\n",
      "File \u001b[0;32m/usr/local/lib/python3.11/dist-packages/Adafruit_PureIO/spi.py:352\u001b[0m, in \u001b[0;36mSPI.writebytes\u001b[0;34m(self, data, max_speed_hz, bits_per_word, delay)\u001b[0m\n\u001b[1;32m    338\u001b[0m spi_ioc_transfer \u001b[39m=\u001b[39m struct\u001b[39m.\u001b[39mpack(\n\u001b[1;32m    339\u001b[0m     SPI\u001b[39m.\u001b[39m_IOC_TRANSFER_FORMAT,\n\u001b[1;32m    340\u001b[0m     addressof(transmit_buffer),\n\u001b[0;32m   (...)\u001b[0m\n\u001b[1;32m    349\u001b[0m     \u001b[39m0\u001b[39m,\n\u001b[1;32m    350\u001b[0m )\n\u001b[1;32m    351\u001b[0m \u001b[39mtry\u001b[39;00m:\n\u001b[0;32m--> 352\u001b[0m     ioctl(\u001b[39mself\u001b[39m\u001b[39m.\u001b[39mhandle, SPI\u001b[39m.\u001b[39m_IOC_MESSAGE, spi_ioc_transfer)\n\u001b[1;32m    353\u001b[0m \u001b[39mexcept\u001b[39;00m \u001b[39mTimeoutError\u001b[39;00m \u001b[39mas\u001b[39;00m err:\n\u001b[1;32m    354\u001b[0m     \u001b[39mraise\u001b[39;00m \u001b[39mException\u001b[39;00m(  \u001b[39m# pylint: disable=broad-exception-raised\u001b[39;00m\n\u001b[1;32m    355\u001b[0m         \u001b[39m\"\u001b[39m\u001b[39mioctl timeout. Please try a different SPI frequency or less data.\u001b[39m\u001b[39m\"\u001b[39m\n\u001b[1;32m    356\u001b[0m     ) \u001b[39mfrom\u001b[39;00m \u001b[39merr\u001b[39;00m\n",
      "\u001b[0;31mKeyboardInterrupt\u001b[0m: "
     ]
    }
   ],
   "source": [
    "my_circle = Character(joystick.width, joystick.height)\n",
    "\n",
    "while True:\n",
    "    command = {'move': False, 'up_pressed': False , 'down_pressed': False, 'left_pressed': False, 'right_pressed': False}\n",
    "    image.paste(background,(0,0))\n",
    "    if not joystick.button_U.value:  # up pressed\n",
    "        command['up_pressed'] = True\n",
    "        command['move'] = True\n",
    "\n",
    "    if not joystick.button_D.value:  # down pressed\n",
    "        command['down_pressed'] = True\n",
    "        command['move'] = True\n",
    "\n",
    "    if not joystick.button_L.value:  # left pressed\n",
    "        command['left_pressed'] = True\n",
    "        command['move'] = True\n",
    "\n",
    "    if not joystick.button_R.value:  # right pressed\n",
    "        command['right_pressed'] = True\n",
    "        command['move'] = True\n",
    "\n",
    "    my_circle.move(command)\n",
    "\n",
    "    #그리는 순서가 중요합니다. 배경을 먼저 깔고 위에 그림을 그리고 싶었는데 그림을 그려놓고 배경으로 덮는 결과로 될 수 있습니다.\n",
    "    image.paste(background,(0,0))\n",
    "    draw.ellipse(tuple(my_circle.position), outline = my_circle.outline, fill = (0, 0, 0))\n",
    "    #좌표는 동그라미의 왼쪽 위, 오른쪽 아래 점 (x1, y1, x2, y2)\n",
    "    joystick.disp.image(image)"
   ]
  }
 ],
 "metadata": {
  "kernelspec": {
   "display_name": "Python 3",
   "language": "python",
   "name": "python3"
  },
  "language_info": {
   "codemirror_mode": {
    "name": "ipython",
    "version": 3
   },
   "file_extension": ".py",
   "mimetype": "text/x-python",
   "name": "python",
   "nbconvert_exporter": "python",
   "pygments_lexer": "ipython3",
   "version": "3.11.2"
  }
 },
 "nbformat": 4,
 "nbformat_minor": 2
}
