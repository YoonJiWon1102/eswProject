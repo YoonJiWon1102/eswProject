{
 "cells": [
  {
   "cell_type": "code",
   "execution_count": 195,
   "metadata": {},
   "outputs": [],
   "source": [
    "import time\n",
    "import random\n",
    "from colorsys import hsv_to_rgb\n",
    "import board\n",
    "from digitalio import DigitalInOut, Direction\n",
    "from PIL import Image, ImageDraw, ImageFont\n",
    "from adafruit_rgb_display import st7789\n",
    "import numpy as np\n",
    "from JoyStick import Joystick\n",
    "#from Character import Character\n"
   ]
  },
  {
   "cell_type": "code",
   "execution_count": 196,
   "metadata": {},
   "outputs": [],
   "source": [
    "class Character:\n",
    "  def __init__(self):\n",
    "    # 캐릭터에 사용할 이미지\n",
    "    self.cat_front = Image.open('images/character/cat_front.png').convert('RGBA')\n",
    "    self.cat_left = Image.open('images/character/cat_left.png').convert('RGBA')\n",
    "    self.cat_right = Image.open('images/character/cat_right.png').convert('RGBA')\n",
    "    self.cat_angry = Image.open('images/character/cat_angry.png').convert('RGBA')\n",
    "    # 이미지 크기 줄이기 \n",
    "    self.cat_front_resized = self.cat_front.resize((70, 70)) \n",
    "    self.cat_left_resized = self.cat_left.resize((70, 70)) \n",
    "    self.cat_right_resized = self.cat_right.resize((70, 70)) \n",
    "    self.cat_angry_resized = self.cat_angry.resize((70, 70)) \n",
    "    # 캐릭터 위치\n",
    "    self.x_position = 120\n",
    "    self.y_position = 180\n",
    "    #self.position = np.array([width/2 - 20, height/2 - 20, width/2 + 20, height/2 +20])\n",
    "    self.speed = 5\n",
    "  # 위 아래로는 움직이지 않음\n",
    "  def move(self,up_down,left_right):\n",
    "      if up_down=='up_pressed':\n",
    "           pass\n",
    "      elif up_down == 'down_prssed':\n",
    "           pass\n",
    "      elif left_right == 'left_pressed':\n",
    "          self.x_position -= self.speed\n",
    "      elif left_right == 'right_pressed':\n",
    "          self.x_position += self.speed\n"
   ]
  },
  {
   "cell_type": "code",
   "execution_count": 201,
   "metadata": {},
   "outputs": [],
   "source": [
    "class Fish:\n",
    "  def __init__(self,x1,y1,x2,y2):\n",
    "    self.fish_1 = Image.open('images/character/fish.png').convert('RGBA')\n",
    "    self.fish_resized = self.fish_1.resize((50, 50)) \n",
    "    self.left_top_x = x1\n",
    "    self.left_top_y = y1\n",
    "    self.right_bottom_x = x2\n",
    "    self.right_bottom_y = y2\n",
    "    self.speed = 5"
   ]
  },
  {
   "cell_type": "code",
   "execution_count": 198,
   "metadata": {},
   "outputs": [],
   "source": [
    "class Fishes:\n",
    "    def __init__(self):\n",
    "      self.fish_list = []\n",
    "      self.x1 = 0\n",
    "      self.x2 = 25\n",
    "      self.y1 = 0\n",
    "      self.y2 = 25\n",
    "      for i in range(0, 8):\n",
    "          self.fish_list.append(Fish(self.x1, self.y1, self.x2, self.y2))\n",
    "          self.x1 += 30\n",
    "          self.x2 += 30"
   ]
  },
  {
   "cell_type": "code",
   "execution_count": 199,
   "metadata": {},
   "outputs": [],
   "source": [
    "class Background:\n",
    "  def __init__(self):\n",
    "    self.backgroundList=[]\n",
    "    name=\"background\"\n",
    "    for i in range(10) :\n",
    "      background = Image.open('images/background/'+name+str(i+1)+'.png').convert('RGBA')\n",
    "      self.backgroundList.append(background)"
   ]
  },
  {
   "cell_type": "code",
   "execution_count": 202,
   "metadata": {},
   "outputs": [],
   "source": [
    "# joystick 객체\n",
    "joystick = Joystick()\n",
    "\n",
    "# 캐릭터 객체 생성\n",
    "cat = Character()\n",
    "# fish 객체 생성\n",
    "fishes = Fishes()\n",
    "\n",
    "\n",
    "# Get drawing object to draw on image\n",
    "image = Image.new(\"RGBA\", (joystick.width, joystick.height))\n",
    "draw = ImageDraw.Draw(image)\n",
    "# clear display\n",
    "draw.rectangle((0, 0, joystick.width, joystick.height), outline=0, fill=(255, 0, 0))\n",
    "joystick.disp.image(image)"
   ]
  },
  {
   "cell_type": "code",
   "execution_count": 203,
   "metadata": {},
   "outputs": [],
   "source": [
    "#background = Image.open('images/background/background1.png')\n",
    "#background = background.resize((240,240))\n",
    "# for i in range(10):\n",
    "#   background = Background().backgroundList[i]\n",
    "#   background = background.resize((240,240))\n",
    "background = Background()\n",
    "total_backgrounds=len(background.backgroundList)\n",
    "current_background_index = 0\n",
    "\n",
    "left_right = 'None'\n"
   ]
  },
  {
   "cell_type": "code",
   "execution_count": 205,
   "metadata": {},
   "outputs": [
    {
     "ename": "KeyboardInterrupt",
     "evalue": "",
     "output_type": "error",
     "traceback": [
      "\u001b[0;31m---------------------------------------------------------------------------\u001b[0m",
      "\u001b[0;31mKeyboardInterrupt\u001b[0m                         Traceback (most recent call last)",
      "\u001b[1;32m/home/user/eswProject/eswProject/main.ipynb 셀 8\u001b[0m line \u001b[0;36m1\n\u001b[1;32m     <a href='vscode-notebook-cell://ssh-remote%2Balias/home/user/eswProject/eswProject/main.ipynb#X10sdnNjb2RlLXJlbW90ZQ%3D%3D?line=9'>10</a>\u001b[0m \u001b[39mif\u001b[39;00m \u001b[39mnot\u001b[39;00m joystick\u001b[39m.\u001b[39mbutton_R\u001b[39m.\u001b[39mvalue:\n\u001b[1;32m     <a href='vscode-notebook-cell://ssh-remote%2Balias/home/user/eswProject/eswProject/main.ipynb#X10sdnNjb2RlLXJlbW90ZQ%3D%3D?line=10'>11</a>\u001b[0m     left_right \u001b[39m=\u001b[39m \u001b[39m'\u001b[39m\u001b[39mright_pressed\u001b[39m\u001b[39m'\u001b[39m\n\u001b[0;32m---> <a href='vscode-notebook-cell://ssh-remote%2Balias/home/user/eswProject/eswProject/main.ipynb#X10sdnNjb2RlLXJlbW90ZQ%3D%3D?line=12'>13</a>\u001b[0m time\u001b[39m.\u001b[39msleep(\u001b[39m0.01\u001b[39m)\n\u001b[1;32m     <a href='vscode-notebook-cell://ssh-remote%2Balias/home/user/eswProject/eswProject/main.ipynb#X10sdnNjb2RlLXJlbW90ZQ%3D%3D?line=13'>14</a>\u001b[0m current_background_index \u001b[39m=\u001b[39m (current_background_index \u001b[39m+\u001b[39m \u001b[39m1\u001b[39m) \u001b[39m%\u001b[39m \u001b[39m10\u001b[39m\n\u001b[1;32m     <a href='vscode-notebook-cell://ssh-remote%2Balias/home/user/eswProject/eswProject/main.ipynb#X10sdnNjb2RlLXJlbW90ZQ%3D%3D?line=14'>15</a>\u001b[0m current_background \u001b[39m=\u001b[39m background\u001b[39m.\u001b[39mbackgroundList[current_background_index]\n",
      "\u001b[0;31mKeyboardInterrupt\u001b[0m: "
     ]
    }
   ],
   "source": [
    "\n",
    "\n",
    "while True:\n",
    "    up_down = 'None'\n",
    "    left_right = 'None'\n",
    "    if not joystick.button_U.value:\n",
    "         up_down = 'up_pressed'\n",
    "    if not joystick.button_D.value:\n",
    "         up_down = 'down_pressed'\n",
    "    if not joystick.button_L.value:\n",
    "        left_right = 'left_pressed'\n",
    "    if not joystick.button_R.value:\n",
    "        left_right = 'right_pressed'\n",
    "        \n",
    "    time.sleep(0.01)\n",
    "    current_background_index = (current_background_index + 1) % 10\n",
    "    current_background = background.backgroundList[current_background_index]\n",
    "    current_background = current_background.resize((240, 240))\n",
    "    image.paste(current_background, (0, 0),current_background)\n",
    "\n",
    "    # 움직이게 만들기 \n",
    "    cat.move(up_down, left_right)\n",
    "    # 가만히 있을 때 이미지표시\n",
    "    image.paste(cat.cat_front_resized, (cat.x_position,cat.y_position),cat.cat_front_resized)\n",
    "    # 왼쪽 오른쪽으로 움직일 때 다른 이미지로 보이도록 함.\n",
    "    if(left_right =='left_pressed') :\n",
    "        image.paste(cat.cat_left_resized, (cat.x_position,cat.y_position),cat.cat_left_resized)\n",
    "    elif(left_right == 'right_pressed'):\n",
    "         image.paste(cat.cat_right_resized, (cat.x_position,cat.y_position),cat.cat_right_resized)\n",
    "    \n",
    "    \n",
    "    joystick.disp.image(image)\n"
   ]
  }
 ],
 "metadata": {
  "kernelspec": {
   "display_name": "Python 3",
   "language": "python",
   "name": "python3"
  },
  "language_info": {
   "codemirror_mode": {
    "name": "ipython",
    "version": 3
   },
   "file_extension": ".py",
   "mimetype": "text/x-python",
   "name": "python",
   "nbconvert_exporter": "python",
   "pygments_lexer": "ipython3",
   "version": "3.11.2"
  }
 },
 "nbformat": 4,
 "nbformat_minor": 2
}
